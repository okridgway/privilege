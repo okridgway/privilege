{
 "cells": [
  {
   "cell_type": "markdown",
   "metadata": {},
   "source": [
    "# Hello World"
   ]
  },
  {
   "cell_type": "markdown",
   "metadata": {},
   "source": [
    "The following data comes from the  United Nations Population Division Department of Economic and Social Affairs. Specifically, this data is a part of the [World Population Prospects: The 2017 Revision](http://data.un.org/Data.aspx?d=PopDiv&f=variableID:12&c=2,4,6,7&s=_crEngNameOrderBy:asc,_timeEngNameOrderBy:desc,_varEngNameOrderBy:asc&v=1) dataset that has been an ongoing project since the mid 20th-century. It was last updated in June 2017 when it was released as the *2017 Revision* edition of the project.\n",
    "\n",
    "The numbers used in the following analysis are based off the median fertility variant prediction for 2018. The original dataset depicts the number of people in thousands and can be downloaded [here](http://data.un.org/Data.aspx?d=PopDiv&f=variableID:12&c=2,4,6,7&s=_crEngNameOrderBy:asc,_timeEngNameOrderBy:desc,_varEngNameOrderBy:asc&v=1)."
   ]
  },
  {
   "cell_type": "code",
   "execution_count": 388,
   "metadata": {},
   "outputs": [],
   "source": [
    "# setting up basic notebook functionalities\n",
    "import pandas as pd"
   ]
  },
  {
   "cell_type": "code",
   "execution_count": 389,
   "metadata": {},
   "outputs": [],
   "source": [
    "# importing relevant data\n",
    "totalpop = pd.read_csv(\"data/UNdata_totalpop.csv\")"
   ]
  },
  {
   "cell_type": "code",
   "execution_count": 390,
   "metadata": {},
   "outputs": [
    {
     "name": "stdout",
     "output_type": "stream",
     "text": [
      "<class 'pandas.core.frame.DataFrame'>\n",
      "RangeIndex: 273 entries, 0 to 272\n",
      "Data columns (total 2 columns):\n",
      "Country    273 non-null object\n",
      "Value      273 non-null float64\n",
      "dtypes: float64(1), object(1)\n",
      "memory usage: 4.3+ KB\n"
     ]
    }
   ],
   "source": [
    "# double checking that the csv file was imported correctly and recognizes the second column as numbers\n",
    "totalpop.info()"
   ]
  },
  {
   "cell_type": "code",
   "execution_count": 391,
   "metadata": {},
   "outputs": [],
   "source": [
    "world = totalpop[totalpop.Country =='World'].Value.sum()\n",
    "usa = totalpop[totalpop.Country =='United States of America'].Value.sum()\n",
    "india = totalpop[totalpop.Country =='India'].Value.sum()\n",
    "china = totalpop[totalpop.Country =='China'].Value.sum()"
   ]
  },
  {
   "cell_type": "code",
   "execution_count": 392,
   "metadata": {},
   "outputs": [],
   "source": [
    "ppl = {\"Americans\": usa, \"World\": world, \"India\":india,\"China\":china}"
   ]
  },
  {
   "cell_type": "code",
   "execution_count": 393,
   "metadata": {},
   "outputs": [],
   "source": [
    "import json\n",
    "data = [ppl]\n",
    "with open('totalpop.json', 'w') as txtfile:\n",
    "    json.dump(data, txtfile)"
   ]
  },
  {
   "cell_type": "code",
   "execution_count": 394,
   "metadata": {},
   "outputs": [],
   "source": [
    "import pandas as pd\n",
    "\n",
    "dict = {row[0] : row[1] for _, row in pd.read_csv(\"data/UNdata_totalpop.csv\").iterrows()}"
   ]
  },
  {
   "cell_type": "code",
   "execution_count": 395,
   "metadata": {
    "collapsed": true
   },
   "outputs": [
    {
     "data": {
      "text/plain": [
       "{'Afghanistan': 36373.176,\n",
       " 'Africa': 1287920.518,\n",
       " 'Albania': 2934.363,\n",
       " 'Algeria': 42008.054000000004,\n",
       " 'American Samoa': 55.678999999999995,\n",
       " 'Andorra': 76.953,\n",
       " 'Angola': 30774.205,\n",
       " 'Anguilla': 15.045,\n",
       " 'Antigua and Barbuda': 103.05,\n",
       " 'Argentina': 44688.864,\n",
       " 'Armenia': 2934.152,\n",
       " 'Aruba': 105.67,\n",
       " 'Asia': 4545133.094,\n",
       " 'Australia': 24772.247000000003,\n",
       " 'Australia/New Zealand': 29521.845,\n",
       " 'Austria': 8751.82,\n",
       " 'Azerbaijan': 9923.914,\n",
       " 'Bahamas': 399.285,\n",
       " 'Bahrain': 1566.993,\n",
       " 'Bangladesh': 166368.149,\n",
       " 'Barbados': 286.388,\n",
       " 'Belarus': 9452.113000000001,\n",
       " 'Belgium': 11498.518999999998,\n",
       " 'Belize': 382.444,\n",
       " 'Benin': 11485.673999999999,\n",
       " 'Bermuda': 61.07,\n",
       " 'Bhutan': 817.054,\n",
       " 'Bolivia (Plurinational State of)': 11215.673999999999,\n",
       " 'Bosnia and Herzegovina': 3503.554,\n",
       " 'Botswana': 2333.201,\n",
       " 'Brazil': 210867.954,\n",
       " 'British Virgin Islands': 31.719,\n",
       " 'Brunei Darussalam': 434.07599999999996,\n",
       " 'Bulgaria': 7036.848000000001,\n",
       " 'Burkina Faso': 19751.651,\n",
       " 'Burundi': 11216.45,\n",
       " 'Cabo Verde': 553.335,\n",
       " 'Cambodia': 16245.729,\n",
       " 'Cameroon': 24678.234,\n",
       " 'Canada': 36953.765,\n",
       " 'Caribbean': 44155.323,\n",
       " 'Caribbean Netherlands': 25.701999999999998,\n",
       " 'Cayman Islands': 62.348,\n",
       " 'Central African Republic': 4737.423,\n",
       " 'Central America': 179616.163,\n",
       " 'Central Asia': 71860.465,\n",
       " 'Chad': 15353.184,\n",
       " 'Channel Islands': 166.083,\n",
       " 'Chile': 18197.209,\n",
       " 'China': 1415045.928,\n",
       " 'China Hong Kong SAR': 7428.887,\n",
       " 'China Macao SAR': 632.418,\n",
       " 'China Taiwan Province of China': 23694.089,\n",
       " 'Colombia': 49464.683,\n",
       " 'Comoros': 832.347,\n",
       " 'Congo': 5399.895,\n",
       " 'Cook Islands': 17.410999999999998,\n",
       " 'Costa Rica': 4953.1990000000005,\n",
       " 'Croatia': 4164.782999999999,\n",
       " 'Cuba': 11489.082,\n",
       " 'Cura\\xc3\\xa7ao': 161.577,\n",
       " 'Cyprus': 1189.085,\n",
       " 'Czechia': 10625.25,\n",
       " \"C\\xc3\\xb4\\xc2\\xb4te d'Ivoire\": 24905.842999999997,\n",
       " \"Dem. People's Republic of Korea\": 25610.672000000002,\n",
       " 'Democratic Republic of the Congo': 84004.989,\n",
       " 'Denmark': 5754.356,\n",
       " 'Djibouti': 971.408,\n",
       " 'Dominica': 74.308,\n",
       " 'Dominican Republic': 10882.996000000001,\n",
       " 'Eastern Africa': 433643.13200000004,\n",
       " 'Eastern Asia': 1653883.533,\n",
       " 'Eastern Europe': 291953.328,\n",
       " 'Ecuador': 16863.425,\n",
       " 'Egypt': 99375.741,\n",
       " 'El Salvador': 6411.558000000001,\n",
       " 'Equatorial Guinea': 1313.894,\n",
       " 'Eritrea': 5187.948,\n",
       " 'Estonia': 1306.788,\n",
       " 'Ethiopia': 107534.882,\n",
       " 'Europe': 742648.01,\n",
       " 'Faeroe Islands': 49.489,\n",
       " 'Falkland Islands (Malvinas)': 2.9219999999999997,\n",
       " 'Fiji': 912.2410000000001,\n",
       " 'Finland': 5542.517,\n",
       " 'France': 65233.27099999999,\n",
       " 'French Guiana': 289.763,\n",
       " 'French Polynesia': 285.85900000000004,\n",
       " 'Gabon': 2067.561,\n",
       " 'Gambia': 2163.765,\n",
       " 'Georgia': 3907.131,\n",
       " 'Germany': 82293.457,\n",
       " 'Ghana': 29463.642999999996,\n",
       " 'Gibraltar': 34.733000000000004,\n",
       " 'Greece': 11142.161,\n",
       " 'Greenland': 56.565,\n",
       " 'Grenada': 108.339,\n",
       " 'Guadeloupe': 449.173,\n",
       " 'Guam': 165.718,\n",
       " 'Guatemala': 17245.346,\n",
       " 'Guinea': 13052.608,\n",
       " 'Guinea-Bissau': 1907.2679999999998,\n",
       " 'Guyana': 782.225,\n",
       " 'Haiti': 11112.945,\n",
       " 'High-income countries': 1197191.0320000001,\n",
       " 'Holy See': 0.8009999999999999,\n",
       " 'Honduras': 9417.167,\n",
       " 'Hungary': 9688.847,\n",
       " 'Iceland': 337.78,\n",
       " 'India': 1354051.854,\n",
       " 'Indonesia': 266794.98,\n",
       " 'Iran (Islamic Republic of)': 82011.735,\n",
       " 'Iraq': 39339.753,\n",
       " 'Ireland': 4803.748,\n",
       " 'Isle of Man': 84.831,\n",
       " 'Israel': 8452.841,\n",
       " 'Italy': 59290.969000000005,\n",
       " 'Jamaica': 2898.677,\n",
       " 'Japan': 127185.332,\n",
       " 'Jordan': 9903.802,\n",
       " 'Kazakhstan': 18403.86,\n",
       " 'Kenya': 50950.879,\n",
       " 'Kiribati': 118.414,\n",
       " 'Kuwait': 4197.128,\n",
       " 'Kyrgyzstan': 6132.932,\n",
       " \"Lao People's Democratic Republic\": 6961.21,\n",
       " 'Latin America and the Caribbean': 652012.001,\n",
       " 'Latvia': 1929.9379999999999,\n",
       " 'Least developed countries': 1025936.734,\n",
       " 'Lebanon': 6093.509,\n",
       " 'Lesotho': 2263.01,\n",
       " 'Less developed regions': 6369619.647999999,\n",
       " 'Less developed regions excluding China': 4922818.326,\n",
       " 'Less developed regions excluding least developed countries': 5343682.914,\n",
       " 'Liberia': 4853.516,\n",
       " 'Libya': 6470.956,\n",
       " 'Liechtenstein': 38.155,\n",
       " 'Lithuania': 2876.475,\n",
       " 'Low-income countries': 695060.1,\n",
       " 'Lower-middle-income countries': 3097406.897,\n",
       " 'Luxembourg': 590.321,\n",
       " 'Madagascar': 26262.81,\n",
       " 'Malawi': 19164.728,\n",
       " 'Malaysia': 32042.458,\n",
       " 'Maldives': 444.259,\n",
       " 'Mali': 19107.706000000002,\n",
       " 'Malta': 432.089,\n",
       " 'Marshall Islands': 53.167,\n",
       " 'Martinique': 385.065,\n",
       " 'Mauritania': 4540.068,\n",
       " 'Mauritius': 1268.315,\n",
       " 'Mayotte': 259.682,\n",
       " 'Melanesia': 10515.806,\n",
       " 'Mexico': 130759.07400000001,\n",
       " 'Micronesia': 531.996,\n",
       " 'Micronesia (Fed. States of)': 106.227,\n",
       " 'Middle Africa': 168538.203,\n",
       " 'Middle-income countries': 5737641.716,\n",
       " 'Monaco': 38.897,\n",
       " 'Mongolia': 3121.772,\n",
       " 'Montenegro': 629.219,\n",
       " 'Montserrat': 5.202999999999999,\n",
       " 'More developed regions': 1263199.6770000001,\n",
       " 'Morocco': 36191.805,\n",
       " 'Mozambique': 30528.673,\n",
       " 'Myanmar': 53855.735,\n",
       " 'Namibia': 2587.801,\n",
       " 'Nauru': 11.312000000000001,\n",
       " 'Nepal': 29624.035,\n",
       " 'Netherlands': 17084.459,\n",
       " 'New Caledonia': 279.82099999999997,\n",
       " 'New Zealand': 4749.598,\n",
       " 'Nicaragua': 6284.757,\n",
       " 'Niger': 22311.375,\n",
       " 'Nigeria': 195875.237,\n",
       " 'Niue': 1.624,\n",
       " 'Northern Africa': 237784.677,\n",
       " 'Northern America': 363844.49,\n",
       " 'Northern Europe': 104761.58099999999,\n",
       " 'Northern Mariana Islands': 55.193999999999996,\n",
       " 'Norway': 5353.363,\n",
       " 'Oceania': 41261.212,\n",
       " 'Oman': 4829.946,\n",
       " 'Pakistan': 200813.818,\n",
       " 'Palau': 21.964000000000002,\n",
       " 'Panama': 4162.6179999999995,\n",
       " 'Papua New Guinea': 8418.346,\n",
       " 'Paraguay': 6896.908,\n",
       " 'Peru': 32551.815,\n",
       " 'Philippines': 106512.07400000001,\n",
       " 'Poland': 38104.832,\n",
       " 'Polynesia': 691.565,\n",
       " 'Portugal': 10291.196,\n",
       " 'Puerto Rico': 3659.007,\n",
       " 'Qatar': 2694.849,\n",
       " 'Republic of Korea': 51164.435,\n",
       " 'Republic of Moldova': 4041.065,\n",
       " 'Romania': 19580.634,\n",
       " 'Russian Federation': 143964.709,\n",
       " 'Rwanda': 12501.156,\n",
       " 'R\\xc3\\xa9union': 883.247,\n",
       " 'Saint Helena': 4.074,\n",
       " 'Saint Kitts and Nevis': 55.85,\n",
       " 'Saint Lucia': 179.667,\n",
       " 'Saint Pierre and Miquelon': 6.3420000000000005,\n",
       " 'Saint Vincent and the Grenadines': 110.2,\n",
       " 'Samoa': 197.695,\n",
       " 'San Marino': 33.556999999999995,\n",
       " 'Sao Tome and Principe': 208.81799999999998,\n",
       " 'Saudi Arabia': 33554.343,\n",
       " 'Senegal': 16294.27,\n",
       " 'Serbia': 8762.027,\n",
       " 'Seychelles': 95.235,\n",
       " 'Sierra Leone': 7719.729,\n",
       " 'Singapore': 5791.901,\n",
       " 'Sint Maarten (Dutch part)': 40.552,\n",
       " 'Slovakia': 5449.816,\n",
       " 'Slovenia': 2081.26,\n",
       " 'Solomon Islands': 623.281,\n",
       " 'Somalia': 15181.925,\n",
       " 'South Africa': 57398.420999999995,\n",
       " 'South America': 428240.515,\n",
       " 'South Sudan': 12919.053,\n",
       " 'South-Central Asia': 1963314.586,\n",
       " 'South-Eastern Asia': 655636.576,\n",
       " 'Southern Africa': 65973.818,\n",
       " 'Southern Asia': 1891454.121,\n",
       " 'Southern Europe': 151860.168,\n",
       " 'Spain': 46397.452000000005,\n",
       " 'Sri Lanka': 20950.041,\n",
       " 'State of Palestine': 5052.776,\n",
       " 'Sub-Saharan Africa': 1050135.841,\n",
       " 'Sudan': 41511.526,\n",
       " 'Suriname': 568.3009999999999,\n",
       " 'Swaziland': 1391.385,\n",
       " 'Sweden': 9982.709,\n",
       " 'Switzerland': 8544.034,\n",
       " 'Syrian Arab Republic': 18284.407,\n",
       " 'TFYR Macedonia': 2085.051,\n",
       " 'Tajikistan': 9107.211,\n",
       " 'Thailand': 69183.173,\n",
       " 'Timor-Leste': 1324.094,\n",
       " 'Togo': 7990.9259999999995,\n",
       " 'Tokelau': 1.319,\n",
       " 'Tonga': 109.008,\n",
       " 'Trinidad and Tobago': 1372.598,\n",
       " 'Tunisia': 11659.173999999999,\n",
       " 'Turkey': 81916.871,\n",
       " 'Turkmenistan': 5851.465999999999,\n",
       " 'Turks and Caicos Islands': 35.963,\n",
       " 'Tuvalu': 11.287,\n",
       " 'Uganda': 44270.562999999995,\n",
       " 'Ukraine': 44009.21400000001,\n",
       " 'United Arab Emirates': 9541.615,\n",
       " 'United Kingdom': 66573.504,\n",
       " 'United Republic of Tanzania': 59091.392,\n",
       " 'United States Virgin Islands': 104.914,\n",
       " 'United States of America': 326766.748,\n",
       " 'Upper-middle-income countries': 2640234.819,\n",
       " 'Uruguay': 3469.551,\n",
       " 'Uzbekistan': 32364.996,\n",
       " 'Vanuatu': 282.117,\n",
       " 'Venezuela (Bolivarian Republic of)': 32381.221,\n",
       " 'Viet Nam': 96491.146,\n",
       " 'Wallis and Futuna Islands': 11.683,\n",
       " 'Western Africa': 381980.68799999997,\n",
       " 'Western Asia': 272298.399,\n",
       " 'Western Europe': 194072.93300000002,\n",
       " 'Western Sahara': 567.4209999999999,\n",
       " 'World': 7632819.325,\n",
       " 'Yemen': 28915.284,\n",
       " 'Zambia': 17609.178,\n",
       " 'Zimbabwe': 16913.261000000002}"
      ]
     },
     "execution_count": 395,
     "metadata": {},
     "output_type": "execute_result"
    }
   ],
   "source": [
    "dict"
   ]
  },
  {
   "cell_type": "code",
   "execution_count": 396,
   "metadata": {},
   "outputs": [],
   "source": [
    "# finally"
   ]
  },
  {
   "cell_type": "code",
   "execution_count": 397,
   "metadata": {},
   "outputs": [],
   "source": [
    "import json\n",
    "data = [dict]\n",
    "with open('totalpop.json', 'w') as txtfile:\n",
    "    json.dump(data, txtfile, sort_keys=True, indent = 4)"
   ]
  },
  {
   "cell_type": "code",
   "execution_count": 398,
   "metadata": {},
   "outputs": [],
   "source": [
    "usa = dict['United States of America']\n",
    "world = dict['World']"
   ]
  },
  {
   "cell_type": "code",
   "execution_count": 399,
   "metadata": {},
   "outputs": [
    {
     "data": {
      "text/plain": [
       "4.0"
      ]
     },
     "execution_count": 399,
     "metadata": {},
     "output_type": "execute_result"
    }
   ],
   "source": [
    "# percent of americans in the total world population\n",
    "ratio = round(usa/world *100,0)\n",
    "ratio"
   ]
  },
  {
   "cell_type": "code",
   "execution_count": 400,
   "metadata": {},
   "outputs": [
    {
     "data": {
      "text/plain": [
       "(23.358617031008308, 25.0)"
      ]
     },
     "execution_count": 400,
     "metadata": {},
     "output_type": "execute_result"
    }
   ],
   "source": [
    "# basis = proportional size of the world if there were only one american in it\n",
    "basis = 100/ratio\n",
    "base = 100/(usa/world*100)\n",
    "base, basis"
   ]
  },
  {
   "cell_type": "code",
   "execution_count": 401,
   "metadata": {},
   "outputs": [
    {
     "data": {
      "text/plain": [
       "4545133.094"
      ]
     },
     "execution_count": 401,
     "metadata": {},
     "output_type": "execute_result"
    }
   ],
   "source": [
    "dict['Asia']"
   ]
  },
  {
   "cell_type": "code",
   "execution_count": 402,
   "metadata": {},
   "outputs": [],
   "source": [
    "cont = ['Asia', 'Africa', 'Northern America', 'South America', 'Central America','Europe', 'Australia/New Zealand', 'Oceania']"
   ]
  },
  {
   "cell_type": "code",
   "execution_count": 403,
   "metadata": {},
   "outputs": [],
   "source": [
    " continents = {k: dict[k] for k in set(cont) & set(dict.keys())}"
   ]
  },
  {
   "cell_type": "code",
   "execution_count": 404,
   "metadata": {},
   "outputs": [
    {
     "data": {
      "text/plain": [
       "[742648.01,\n",
       " 29521.845,\n",
       " 179616.163,\n",
       " 363844.49,\n",
       " 1287920.518,\n",
       " 4545133.094,\n",
       " 428240.515,\n",
       " 41261.212]"
      ]
     },
     "execution_count": 404,
     "metadata": {},
     "output_type": "execute_result"
    }
   ],
   "source": [
    "continents.values()"
   ]
  },
  {
   "cell_type": "code",
   "execution_count": 405,
   "metadata": {},
   "outputs": [
    {
     "data": {
      "text/plain": [
       "0.998082821382648"
      ]
     },
     "execution_count": 405,
     "metadata": {},
     "output_type": "execute_result"
    }
   ],
   "source": [
    "# rounding all the values to 0 decimal points\n",
    "continents.update((x,y/world) for x, y in continents.items())\n",
    "sum(continents.values())"
   ]
  },
  {
   "cell_type": "code",
   "execution_count": 406,
   "metadata": {},
   "outputs": [
    {
     "data": {
      "text/plain": [
       "{'Africa': 0.16873457410181786,\n",
       " 'Asia': 0.595472380580684,\n",
       " 'Australia/New Zealand': 0.00386775105540704,\n",
       " 'Central America': 0.023532086291063885,\n",
       " 'Europe': 0.0972966840139374,\n",
       " 'Northern America': 0.04766842689545779,\n",
       " 'Oceania': 0.005405762961643272,\n",
       " 'South America': 0.056105155482636816}"
      ]
     },
     "execution_count": 406,
     "metadata": {},
     "output_type": "execute_result"
    }
   ],
   "source": [
    " continents"
   ]
  },
  {
   "cell_type": "code",
   "execution_count": 407,
   "metadata": {},
   "outputs": [],
   "source": [
    "continents.update((x,y*basis) for x, y in continents.items())"
   ]
  },
  {
   "cell_type": "code",
   "execution_count": 408,
   "metadata": {},
   "outputs": [
    {
     "data": {
      "text/plain": [
       "{'Africa': 4.218364352545446,\n",
       " 'Asia': 14.886809514517099,\n",
       " 'Australia/New Zealand': 0.096693776385176,\n",
       " 'Central America': 0.5883021572765972,\n",
       " 'Europe': 2.432417100348435,\n",
       " 'Northern America': 1.1917106723864448,\n",
       " 'Oceania': 0.13514407404108178,\n",
       " 'South America': 1.4026288870659205}"
      ]
     },
     "execution_count": 408,
     "metadata": {},
     "output_type": "execute_result"
    }
   ],
   "source": [
    "continents"
   ]
  },
  {
   "cell_type": "code",
   "execution_count": 409,
   "metadata": {},
   "outputs": [],
   "source": [
    "continents.update((x,round(y,0)) for x, y in continents.items())"
   ]
  },
  {
   "cell_type": "code",
   "execution_count": 410,
   "metadata": {},
   "outputs": [
    {
     "data": {
      "text/plain": [
       "{'Africa': 4.0,\n",
       " 'Asia': 15.0,\n",
       " 'Australia/New Zealand': 0.0,\n",
       " 'Central America': 1.0,\n",
       " 'Europe': 2.0,\n",
       " 'Northern America': 1.0,\n",
       " 'Oceania': 0.0,\n",
       " 'South America': 1.0}"
      ]
     },
     "execution_count": 410,
     "metadata": {},
     "output_type": "execute_result"
    }
   ],
   "source": [
    "continents"
   ]
  },
  {
   "cell_type": "code",
   "execution_count": 411,
   "metadata": {},
   "outputs": [
    {
     "data": {
      "text/plain": [
       "24.0"
      ]
     },
     "execution_count": 411,
     "metadata": {},
     "output_type": "execute_result"
    }
   ],
   "source": [
    "sum(continents.values())"
   ]
  },
  {
   "cell_type": "code",
   "execution_count": null,
   "metadata": {},
   "outputs": [],
   "source": []
  },
  {
   "cell_type": "code",
   "execution_count": null,
   "metadata": {},
   "outputs": [],
   "source": []
  }
 ],
 "metadata": {
  "kernelspec": {
   "display_name": "Python 2",
   "language": "python",
   "name": "python2"
  },
  "language_info": {
   "codemirror_mode": {
    "name": "ipython",
    "version": 2
   },
   "file_extension": ".py",
   "mimetype": "text/x-python",
   "name": "python",
   "nbconvert_exporter": "python",
   "pygments_lexer": "ipython2",
   "version": "2.7.10"
  }
 },
 "nbformat": 4,
 "nbformat_minor": 2
}
