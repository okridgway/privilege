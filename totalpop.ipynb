{
 "cells": [
  {
   "cell_type": "markdown",
   "metadata": {},
   "source": [
    "# Hello World"
   ]
  },
  {
   "cell_type": "markdown",
   "metadata": {},
   "source": [
    "The following data comes from the  United Nations Population Division Department of Economic and Social Affairs. Specifically, this data is a part of the [World Population Prospects: The 2017 Revision](http://data.un.org/Data.aspx?d=PopDiv&f=variableID:12&c=2,4,6,7&s=_crEngNameOrderBy:asc,_timeEngNameOrderBy:desc,_varEngNameOrderBy:asc&v=1) dataset that has been an ongoing project since the mid 20th-century. It was last updated in June 2017 when it was released as the *2017 Revision* edition of the project.\n",
    "\n",
    "The numbers used in the following analysis are based off the median fertility variant prediction for 2018. The original dataset depicts the number of people in thousands and can be downloaded [here](http://data.un.org/Data.aspx?d=PopDiv&f=variableID:12&c=2,4,6,7&s=_crEngNameOrderBy:asc,_timeEngNameOrderBy:desc,_varEngNameOrderBy:asc&v=1)."
   ]
  },
  {
   "cell_type": "code",
   "execution_count": 324,
   "metadata": {},
   "outputs": [],
   "source": [
    "# setting up basic notebook functionalities\n",
    "import pandas as pd"
   ]
  },
  {
   "cell_type": "code",
   "execution_count": 325,
   "metadata": {},
   "outputs": [],
   "source": [
    "# importing relevant data\n",
    "totalpop = pd.read_csv(\"data/UNdata_totalpop.csv\")"
   ]
  },
  {
   "cell_type": "code",
   "execution_count": 326,
   "metadata": {
    "scrolled": true
   },
   "outputs": [
    {
     "name": "stdout",
     "output_type": "stream",
     "text": [
      "<class 'pandas.core.frame.DataFrame'>\n",
      "RangeIndex: 273 entries, 0 to 272\n",
      "Data columns (total 2 columns):\n",
      "Country    273 non-null object\n",
      "Value      273 non-null float64\n",
      "dtypes: float64(1), object(1)\n",
      "memory usage: 4.3+ KB\n"
     ]
    }
   ],
   "source": [
    "# double checking that the csv file was imported correctly and recognizes the second column as numbers\n",
    "totalpop.info()"
   ]
  },
  {
   "cell_type": "code",
   "execution_count": 327,
   "metadata": {},
   "outputs": [],
   "source": [
    "# creating a dictionary and assinging each row as a unique key with the second row as a value\n",
    "countries = {row[0] : row[1] for _, row in pd.read_csv(\"data/UNdata_totalpop.csv\").iterrows()}"
   ]
  },
  {
   "cell_type": "code",
   "execution_count": 328,
   "metadata": {},
   "outputs": [
    {
     "data": {
      "text/plain": [
       "4.0"
      ]
     },
     "execution_count": 328,
     "metadata": {},
     "output_type": "execute_result"
    }
   ],
   "source": [
    "# defining a few variables to save time/space\n",
    "usa = countries['United States of America']\n",
    "world = countries['World']\n",
    "ratio = round((usa/world *100),0)\n",
    "ratio"
   ]
  },
  {
   "cell_type": "code",
   "execution_count": 329,
   "metadata": {},
   "outputs": [
    {
     "data": {
      "text/plain": [
       "(23.358617031008308, 25.0)"
      ]
     },
     "execution_count": 329,
     "metadata": {},
     "output_type": "execute_result"
    }
   ],
   "source": [
    "# basis = proportional size of the world if there were only one american in it\n",
    "basis = 100/ratio\n",
    "base = 100/(usa/world*100)\n",
    "base, basis"
   ]
  },
  {
   "cell_type": "code",
   "execution_count": 330,
   "metadata": {},
   "outputs": [],
   "source": [
    "# list of 'seven' continents\n",
    "cont = ['Asia', 'Africa', 'Northern America', 'South America', 'Central America','Europe', 'Australia/New Zealand', 'Oceania']"
   ]
  },
  {
   "cell_type": "code",
   "execution_count": 331,
   "metadata": {},
   "outputs": [],
   "source": [
    "# creating a new dicitonary with just the continents in it\n",
    "continents = {k: countries[k] for k in set(cont) & set(countries.keys())}"
   ]
  },
  {
   "cell_type": "code",
   "execution_count": 332,
   "metadata": {},
   "outputs": [],
   "source": [
    "# combining data to reflect continental divide\n",
    "continents['Oceania'] = continents['Australia/New Zealand'] + continents['Oceania']\n",
    "del continents['Australia/New Zealand']"
   ]
  },
  {
   "cell_type": "code",
   "execution_count": 333,
   "metadata": {},
   "outputs": [],
   "source": [
    "continents['North America'] = continents['Northern America'] + continents['Central America']\n",
    "del continents['Northern America']\n",
    "del continents['Central America']"
   ]
  },
  {
   "cell_type": "code",
   "execution_count": 334,
   "metadata": {},
   "outputs": [],
   "source": [
    "world = sum(continents.values())"
   ]
  },
  {
   "cell_type": "code",
   "execution_count": 335,
   "metadata": {},
   "outputs": [
    {
     "data": {
      "text/plain": [
       "({'Africa': 16.7,\n",
       "  'Asia': 58.9,\n",
       "  'Europe': 9.6,\n",
       "  'North America': 7.0,\n",
       "  'Oceania': 0.9,\n",
       "  'South America': 5.6},\n",
       " 98.69999999999999)"
      ]
     },
     "execution_count": 335,
     "metadata": {},
     "output_type": "execute_result"
    }
   ],
   "source": [
    "# finding their percentage and double checking that they add up to 1\n",
    "continents.update((x,round((y/world *3.95*basis),1)) for x, y in continents.items())\n",
    "continents, sum(continents.values())"
   ]
  },
  {
   "cell_type": "code",
   "execution_count": 336,
   "metadata": {
    "scrolled": true
   },
   "outputs": [
    {
     "data": {
      "text/plain": [
       "({'Africa': 17.0,\n",
       "  'Asia': 59.0,\n",
       "  'Europe': 10.0,\n",
       "  'North America': 7.0,\n",
       "  'Oceania': 1.0,\n",
       "  'South America': 6.0},\n",
       " 100.0)"
      ]
     },
     "execution_count": 336,
     "metadata": {},
     "output_type": "execute_result"
    }
   ],
   "source": [
    "# rounding to 0 decimal points\n",
    "continents.update((x,round(y,0)) for x, y in continents.items())\n",
    "continents, sum(continents.values())"
   ]
  },
  {
   "cell_type": "code",
   "execution_count": 337,
   "metadata": {},
   "outputs": [],
   "source": [
    "# writing dictionary to json file\n",
    "import json\n",
    "data = [continents]\n",
    "with open('sevencont.json', 'w') as txtfile:\n",
    "    json.dump(data, txtfile, sort_keys=True, indent = 4)"
   ]
  },
  {
   "cell_type": "markdown",
   "metadata": {},
   "source": [
    "I've officially got it working with the seven continents. For those interested, you can check it out [here](https://farnothing.com/visualization.php) (assuming I haven't changed the link since writing this). Now the task will be to see if I can get it working (with minimal effort) to show all the countries in the world. (Yikes, wish me luck.)"
   ]
  },
  {
   "cell_type": "code",
   "execution_count": 338,
   "metadata": {},
   "outputs": [],
   "source": [
    "#importing the super crazy large excel file thats the official version of what I used for the seven continents\n",
    "worldpop = pd.read_excel('data/WPP17_totalpop.xlsx', sheet_name=\"MEDIUM VARIANT\")"
   ]
  },
  {
   "cell_type": "code",
   "execution_count": 339,
   "metadata": {
    "collapsed": true
   },
   "outputs": [
    {
     "name": "stdout",
     "output_type": "stream",
     "text": [
      "<class 'pandas.core.frame.DataFrame'>\n",
      "RangeIndex: 288 entries, 0 to 287\n",
      "Data columns (total 91 columns):\n",
      "Unnamed: 0     283 non-null object\n",
      "Unnamed: 1     274 non-null object\n",
      "Unnamed: 2     274 non-null object\n",
      "Unnamed: 3     36 non-null object\n",
      "Unnamed: 4     274 non-null object\n",
      "Unnamed: 5     275 non-null object\n",
      "Unnamed: 6     274 non-null float64\n",
      "Unnamed: 7     274 non-null float64\n",
      "Unnamed: 8     274 non-null float64\n",
      "Unnamed: 9     274 non-null float64\n",
      "Unnamed: 10    274 non-null float64\n",
      "Unnamed: 11    274 non-null float64\n",
      "Unnamed: 12    274 non-null float64\n",
      "Unnamed: 13    274 non-null float64\n",
      "Unnamed: 14    274 non-null float64\n",
      "Unnamed: 15    274 non-null float64\n",
      "Unnamed: 16    274 non-null float64\n",
      "Unnamed: 17    274 non-null float64\n",
      "Unnamed: 18    274 non-null float64\n",
      "Unnamed: 19    274 non-null float64\n",
      "Unnamed: 20    274 non-null float64\n",
      "Unnamed: 21    274 non-null float64\n",
      "Unnamed: 22    274 non-null float64\n",
      "Unnamed: 23    274 non-null float64\n",
      "Unnamed: 24    274 non-null float64\n",
      "Unnamed: 25    274 non-null float64\n",
      "Unnamed: 26    274 non-null float64\n",
      "Unnamed: 27    274 non-null float64\n",
      "Unnamed: 28    274 non-null float64\n",
      "Unnamed: 29    274 non-null float64\n",
      "Unnamed: 30    274 non-null float64\n",
      "Unnamed: 31    274 non-null float64\n",
      "Unnamed: 32    274 non-null float64\n",
      "Unnamed: 33    274 non-null float64\n",
      "Unnamed: 34    274 non-null float64\n",
      "Unnamed: 35    274 non-null float64\n",
      "Unnamed: 36    274 non-null float64\n",
      "Unnamed: 37    274 non-null float64\n",
      "Unnamed: 38    274 non-null float64\n",
      "Unnamed: 39    274 non-null float64\n",
      "Unnamed: 40    274 non-null float64\n",
      "Unnamed: 41    274 non-null float64\n",
      "Unnamed: 42    274 non-null float64\n",
      "Unnamed: 43    274 non-null float64\n",
      "Unnamed: 44    274 non-null float64\n",
      "Unnamed: 45    274 non-null float64\n",
      "Unnamed: 46    274 non-null float64\n",
      "Unnamed: 47    274 non-null float64\n",
      "Unnamed: 48    274 non-null float64\n",
      "Unnamed: 49    274 non-null float64\n",
      "Unnamed: 50    274 non-null float64\n",
      "Unnamed: 51    274 non-null float64\n",
      "Unnamed: 52    274 non-null float64\n",
      "Unnamed: 53    274 non-null float64\n",
      "Unnamed: 54    274 non-null float64\n",
      "Unnamed: 55    274 non-null float64\n",
      "Unnamed: 56    274 non-null float64\n",
      "Unnamed: 57    274 non-null float64\n",
      "Unnamed: 58    274 non-null float64\n",
      "Unnamed: 59    274 non-null float64\n",
      "Unnamed: 60    274 non-null float64\n",
      "Unnamed: 61    274 non-null float64\n",
      "Unnamed: 62    274 non-null float64\n",
      "Unnamed: 63    274 non-null float64\n",
      "Unnamed: 64    274 non-null float64\n",
      "Unnamed: 65    274 non-null float64\n",
      "Unnamed: 66    274 non-null float64\n",
      "Unnamed: 67    274 non-null float64\n",
      "Unnamed: 68    274 non-null float64\n",
      "Unnamed: 69    274 non-null float64\n",
      "Unnamed: 70    274 non-null float64\n",
      "Unnamed: 71    274 non-null float64\n",
      "Unnamed: 72    274 non-null float64\n",
      "Unnamed: 73    274 non-null float64\n",
      "Unnamed: 74    274 non-null float64\n",
      "Unnamed: 75    274 non-null float64\n",
      "Unnamed: 76    274 non-null float64\n",
      "Unnamed: 77    274 non-null float64\n",
      "Unnamed: 78    274 non-null float64\n",
      "Unnamed: 79    274 non-null float64\n",
      "Unnamed: 80    274 non-null float64\n",
      "Unnamed: 81    274 non-null float64\n",
      "Unnamed: 82    274 non-null float64\n",
      "Unnamed: 83    274 non-null float64\n",
      "Unnamed: 84    274 non-null float64\n",
      "Unnamed: 85    274 non-null float64\n",
      "Unnamed: 86    274 non-null float64\n",
      "Unnamed: 87    274 non-null float64\n",
      "Unnamed: 88    274 non-null float64\n",
      "Unnamed: 89    274 non-null float64\n",
      "Unnamed: 90    274 non-null float64\n",
      "dtypes: float64(85), object(6)\n",
      "memory usage: 204.8+ KB\n"
     ]
    }
   ],
   "source": [
    "#looking to see how many total rows there are\n",
    "worldpop.info()"
   ]
  },
  {
   "cell_type": "code",
   "execution_count": 340,
   "metadata": {
    "collapsed": true
   },
   "outputs": [
    {
     "data": {
      "text/html": [
       "<div>\n",
       "<style scoped>\n",
       "    .dataframe tbody tr th:only-of-type {\n",
       "        vertical-align: middle;\n",
       "    }\n",
       "\n",
       "    .dataframe tbody tr th {\n",
       "        vertical-align: top;\n",
       "    }\n",
       "\n",
       "    .dataframe thead th {\n",
       "        text-align: right;\n",
       "    }\n",
       "</style>\n",
       "<table border=\"1\" class=\"dataframe\">\n",
       "  <thead>\n",
       "    <tr style=\"text-align: right;\">\n",
       "      <th>14</th>\n",
       "      <th>Index</th>\n",
       "      <th>Variant</th>\n",
       "      <th>Region, subregion, country or area *</th>\n",
       "      <th>Notes</th>\n",
       "      <th>Country code</th>\n",
       "      <th>2015</th>\n",
       "      <th>2016.0</th>\n",
       "      <th>2017.0</th>\n",
       "      <th>2018.0</th>\n",
       "      <th>2019.0</th>\n",
       "      <th>...</th>\n",
       "      <th>2091.0</th>\n",
       "      <th>2092.0</th>\n",
       "      <th>2093.0</th>\n",
       "      <th>2094.0</th>\n",
       "      <th>2095.0</th>\n",
       "      <th>2096.0</th>\n",
       "      <th>2097.0</th>\n",
       "      <th>2098.0</th>\n",
       "      <th>2099.0</th>\n",
       "      <th>2100.0</th>\n",
       "    </tr>\n",
       "  </thead>\n",
       "  <tbody>\n",
       "    <tr>\n",
       "      <th>15</th>\n",
       "      <td>1</td>\n",
       "      <td>Medium variant</td>\n",
       "      <td>WORLD</td>\n",
       "      <td>NaN</td>\n",
       "      <td>900</td>\n",
       "      <td>7.38301e+06</td>\n",
       "      <td>7466964.280</td>\n",
       "      <td>7550262.101</td>\n",
       "      <td>7632819.325</td>\n",
       "      <td>7714576.923</td>\n",
       "      <td>...</td>\n",
       "      <td>1.106659e+07</td>\n",
       "      <td>1.108247e+07</td>\n",
       "      <td>1.109767e+07</td>\n",
       "      <td>1.111219e+07</td>\n",
       "      <td>1.112603e+07</td>\n",
       "      <td>1.113917e+07</td>\n",
       "      <td>1.115160e+07</td>\n",
       "      <td>1.116329e+07</td>\n",
       "      <td>1.117422e+07</td>\n",
       "      <td>1.118437e+07</td>\n",
       "    </tr>\n",
       "    <tr>\n",
       "      <th>16</th>\n",
       "      <td>2</td>\n",
       "      <td>Medium variant</td>\n",
       "      <td>More developed regions</td>\n",
       "      <td>a</td>\n",
       "      <td>901</td>\n",
       "      <td>1.25321e+06</td>\n",
       "      <td>1256576.162</td>\n",
       "      <td>1259922.493</td>\n",
       "      <td>1263199.677</td>\n",
       "      <td>1266335.192</td>\n",
       "      <td>...</td>\n",
       "      <td>1.285146e+06</td>\n",
       "      <td>1.285199e+06</td>\n",
       "      <td>1.285246e+06</td>\n",
       "      <td>1.285282e+06</td>\n",
       "      <td>1.285303e+06</td>\n",
       "      <td>1.285301e+06</td>\n",
       "      <td>1.285272e+06</td>\n",
       "      <td>1.285209e+06</td>\n",
       "      <td>1.285106e+06</td>\n",
       "      <td>1.284957e+06</td>\n",
       "    </tr>\n",
       "    <tr>\n",
       "      <th>17</th>\n",
       "      <td>3</td>\n",
       "      <td>Medium variant</td>\n",
       "      <td>Less developed regions</td>\n",
       "      <td>b</td>\n",
       "      <td>902</td>\n",
       "      <td>6.1298e+06</td>\n",
       "      <td>6210388.118</td>\n",
       "      <td>6290339.608</td>\n",
       "      <td>6369619.648</td>\n",
       "      <td>6448241.731</td>\n",
       "      <td>...</td>\n",
       "      <td>9.781447e+06</td>\n",
       "      <td>9.797266e+06</td>\n",
       "      <td>9.812422e+06</td>\n",
       "      <td>9.826911e+06</td>\n",
       "      <td>9.840730e+06</td>\n",
       "      <td>9.853871e+06</td>\n",
       "      <td>9.866325e+06</td>\n",
       "      <td>9.878077e+06</td>\n",
       "      <td>9.889112e+06</td>\n",
       "      <td>9.899411e+06</td>\n",
       "    </tr>\n",
       "    <tr>\n",
       "      <th>18</th>\n",
       "      <td>4</td>\n",
       "      <td>Medium variant</td>\n",
       "      <td>Least developed countries</td>\n",
       "      <td>c</td>\n",
       "      <td>941</td>\n",
       "      <td>956631</td>\n",
       "      <td>979387.925</td>\n",
       "      <td>1002485.957</td>\n",
       "      <td>1025936.734</td>\n",
       "      <td>1049764.676</td>\n",
       "      <td>...</td>\n",
       "      <td>3.024520e+06</td>\n",
       "      <td>3.045449e+06</td>\n",
       "      <td>3.065994e+06</td>\n",
       "      <td>3.086153e+06</td>\n",
       "      <td>3.105922e+06</td>\n",
       "      <td>3.125299e+06</td>\n",
       "      <td>3.144282e+06</td>\n",
       "      <td>3.162871e+06</td>\n",
       "      <td>3.181063e+06</td>\n",
       "      <td>3.198860e+06</td>\n",
       "    </tr>\n",
       "    <tr>\n",
       "      <th>19</th>\n",
       "      <td>5</td>\n",
       "      <td>Medium variant</td>\n",
       "      <td>Less developed regions, excluding least develo...</td>\n",
       "      <td>d</td>\n",
       "      <td>934</td>\n",
       "      <td>5.17317e+06</td>\n",
       "      <td>5231000.193</td>\n",
       "      <td>5287853.651</td>\n",
       "      <td>5343682.914</td>\n",
       "      <td>5398477.055</td>\n",
       "      <td>...</td>\n",
       "      <td>6.756927e+06</td>\n",
       "      <td>6.751818e+06</td>\n",
       "      <td>6.746428e+06</td>\n",
       "      <td>6.740758e+06</td>\n",
       "      <td>6.734808e+06</td>\n",
       "      <td>6.728572e+06</td>\n",
       "      <td>6.722042e+06</td>\n",
       "      <td>6.715206e+06</td>\n",
       "      <td>6.708049e+06</td>\n",
       "      <td>6.700551e+06</td>\n",
       "    </tr>\n",
       "  </tbody>\n",
       "</table>\n",
       "<p>5 rows × 91 columns</p>\n",
       "</div>"
      ],
      "text/plain": [
       "14 Index         Variant               Region, subregion, country or area *  \\\n",
       "15     1  Medium variant                                              WORLD   \n",
       "16     2  Medium variant                             More developed regions   \n",
       "17     3  Medium variant                             Less developed regions   \n",
       "18     4  Medium variant                          Least developed countries   \n",
       "19     5  Medium variant  Less developed regions, excluding least develo...   \n",
       "\n",
       "14 Notes Country code         2015       2016.0       2017.0       2018.0  \\\n",
       "15   NaN          900  7.38301e+06  7466964.280  7550262.101  7632819.325   \n",
       "16     a          901  1.25321e+06  1256576.162  1259922.493  1263199.677   \n",
       "17     b          902   6.1298e+06  6210388.118  6290339.608  6369619.648   \n",
       "18     c          941       956631   979387.925  1002485.957  1025936.734   \n",
       "19     d          934  5.17317e+06  5231000.193  5287853.651  5343682.914   \n",
       "\n",
       "14       2019.0      ...             2091.0        2092.0        2093.0  \\\n",
       "15  7714576.923      ...       1.106659e+07  1.108247e+07  1.109767e+07   \n",
       "16  1266335.192      ...       1.285146e+06  1.285199e+06  1.285246e+06   \n",
       "17  6448241.731      ...       9.781447e+06  9.797266e+06  9.812422e+06   \n",
       "18  1049764.676      ...       3.024520e+06  3.045449e+06  3.065994e+06   \n",
       "19  5398477.055      ...       6.756927e+06  6.751818e+06  6.746428e+06   \n",
       "\n",
       "14        2094.0        2095.0        2096.0        2097.0        2098.0  \\\n",
       "15  1.111219e+07  1.112603e+07  1.113917e+07  1.115160e+07  1.116329e+07   \n",
       "16  1.285282e+06  1.285303e+06  1.285301e+06  1.285272e+06  1.285209e+06   \n",
       "17  9.826911e+06  9.840730e+06  9.853871e+06  9.866325e+06  9.878077e+06   \n",
       "18  3.086153e+06  3.105922e+06  3.125299e+06  3.144282e+06  3.162871e+06   \n",
       "19  6.740758e+06  6.734808e+06  6.728572e+06  6.722042e+06  6.715206e+06   \n",
       "\n",
       "14        2099.0        2100.0  \n",
       "15  1.117422e+07  1.118437e+07  \n",
       "16  1.285106e+06  1.284957e+06  \n",
       "17  9.889112e+06  9.899411e+06  \n",
       "18  3.181063e+06  3.198860e+06  \n",
       "19  6.708049e+06  6.700551e+06  \n",
       "\n",
       "[5 rows x 91 columns]"
      ]
     },
     "execution_count": 340,
     "metadata": {},
     "output_type": "execute_result"
    }
   ],
   "source": [
    "#removed excess heading stuff, and replaced the header with the relevant data\n",
    "header = worldpop.iloc[14]\n",
    "worldpop = worldpop.tail(288-14)\n",
    "worldpop = worldpop[1:]\n",
    "worldpop.columns = header\n",
    "worldpop.head()"
   ]
  },
  {
   "cell_type": "code",
   "execution_count": 341,
   "metadata": {},
   "outputs": [
    {
     "data": {
      "text/html": [
       "<div>\n",
       "<style scoped>\n",
       "    .dataframe tbody tr th:only-of-type {\n",
       "        vertical-align: middle;\n",
       "    }\n",
       "\n",
       "    .dataframe tbody tr th {\n",
       "        vertical-align: top;\n",
       "    }\n",
       "\n",
       "    .dataframe thead th {\n",
       "        text-align: right;\n",
       "    }\n",
       "</style>\n",
       "<table border=\"1\" class=\"dataframe\">\n",
       "  <thead>\n",
       "    <tr style=\"text-align: right;\">\n",
       "      <th>14</th>\n",
       "      <th>Region, subregion, country or area *</th>\n",
       "      <th>2018.0</th>\n",
       "    </tr>\n",
       "  </thead>\n",
       "  <tbody>\n",
       "    <tr>\n",
       "      <th>29</th>\n",
       "      <td>Burundi</td>\n",
       "      <td>11216.450</td>\n",
       "    </tr>\n",
       "    <tr>\n",
       "      <th>30</th>\n",
       "      <td>Comoros</td>\n",
       "      <td>832.347</td>\n",
       "    </tr>\n",
       "    <tr>\n",
       "      <th>31</th>\n",
       "      <td>Djibouti</td>\n",
       "      <td>971.408</td>\n",
       "    </tr>\n",
       "    <tr>\n",
       "      <th>32</th>\n",
       "      <td>Eritrea</td>\n",
       "      <td>5187.948</td>\n",
       "    </tr>\n",
       "    <tr>\n",
       "      <th>33</th>\n",
       "      <td>Ethiopia</td>\n",
       "      <td>107534.882</td>\n",
       "    </tr>\n",
       "  </tbody>\n",
       "</table>\n",
       "</div>"
      ],
      "text/plain": [
       "14 Region, subregion, country or area *      2018.0\n",
       "29                              Burundi   11216.450\n",
       "30                              Comoros     832.347\n",
       "31                             Djibouti     971.408\n",
       "32                              Eritrea    5187.948\n",
       "33                             Ethiopia  107534.882"
      ]
     },
     "execution_count": 341,
     "metadata": {},
     "output_type": "execute_result"
    }
   ],
   "source": [
    "# selecting just the countries (removing all the regions also included in the list)\n",
    "percountry = worldpop[worldpop['Country code'] < 900]\n",
    "percountry = percountry[['Region, subregion, country or area *', 2018.0]]\n",
    "percountry.head()"
   ]
  },
  {
   "cell_type": "code",
   "execution_count": 342,
   "metadata": {
    "scrolled": false
   },
   "outputs": [],
   "source": [
    "world = percountry[2018.0].sum()"
   ]
  },
  {
   "cell_type": "code",
   "execution_count": 343,
   "metadata": {
    "scrolled": false
   },
   "outputs": [],
   "source": [
    "percountry[2018.0] = percountry[2018.0] / world *100\n"
   ]
  },
  {
   "cell_type": "code",
   "execution_count": 344,
   "metadata": {},
   "outputs": [],
   "source": [
    "percountry[2018.0] = percountry[2018.0].round(2)"
   ]
  },
  {
   "cell_type": "code",
   "execution_count": 345,
   "metadata": {},
   "outputs": [
    {
     "name": "stdout",
     "output_type": "stream",
     "text": [
      "<class 'pandas.core.frame.DataFrame'>\n",
      "Int64Index: 233 entries, 29 to 287\n",
      "Data columns (total 2 columns):\n",
      "Country       233 non-null object\n",
      "Population    233 non-null float64\n",
      "dtypes: float64(1), object(1)\n",
      "memory usage: 5.5+ KB\n"
     ]
    }
   ],
   "source": [
    "percountry.columns = ['Country', 'Population']\n",
    "percountry.info()"
   ]
  },
  {
   "cell_type": "code",
   "execution_count": 346,
   "metadata": {},
   "outputs": [],
   "source": [
    "# creating a dictionary and assinging each row as a unique key with the second row as a value\n",
    "percountry = {row[0] : row[1] for _, row in percountry.iterrows()}"
   ]
  },
  {
   "cell_type": "code",
   "execution_count": 347,
   "metadata": {},
   "outputs": [],
   "source": [
    "# writing dictionary to json file\n",
    "import json\n",
    "data = [percountry]\n",
    "with open('totalpop.json', 'w') as txtfile:\n",
    "    json.dump(data, txtfile, sort_keys=True, indent = 4)"
   ]
  },
  {
   "cell_type": "markdown",
   "metadata": {},
   "source": [
    "Adding in functionality for population percentage based on income (upper middle and lower divisions as classified by the 2016 GNI per capita from the world bank)"
   ]
  },
  {
   "cell_type": "code",
   "execution_count": 348,
   "metadata": {},
   "outputs": [
    {
     "data": {
      "text/plain": [
       "7632819.325000001"
      ]
     },
     "execution_count": 348,
     "metadata": {},
     "output_type": "execute_result"
    }
   ],
   "source": [
    "incomedist = worldpop[(worldpop['Country code'] > 1000)&(worldpop['Country code']<2000)]\n",
    "incomedist = incomedist[['Region, subregion, country or area *', 2018.0]]\n",
    "world"
   ]
  },
  {
   "cell_type": "code",
   "execution_count": 349,
   "metadata": {},
   "outputs": [],
   "source": [
    "incomedist[2018.0] = incomedist[2018.0] / world *100"
   ]
  },
  {
   "cell_type": "code",
   "execution_count": 350,
   "metadata": {},
   "outputs": [],
   "source": [
    "# creating a dictionary and assinging each row as a unique key with the second row as a value\n",
    "econdist = {row[0] : row[1] for _, row in incomedist.iterrows()}"
   ]
  },
  {
   "cell_type": "code",
   "execution_count": 353,
   "metadata": {
    "scrolled": true
   },
   "outputs": [
    {
     "data": {
      "text/plain": [
       "{u'High-income countries': 15.684781481448203,\n",
       " u'Low-income countries': 9.106204017216141,\n",
       " u'Lower-middle-income countries': 40.580115487012385,\n",
       " u'Upper-middle-income countries': 34.590558305924525}"
      ]
     },
     "execution_count": 353,
     "metadata": {},
     "output_type": "execute_result"
    }
   ],
   "source": [
    "incomedist.columns = ['Country', 'Population']\n",
    "\n",
    "del econdist['Middle-income countries']\n",
    "econdist"
   ]
  },
  {
   "cell_type": "code",
   "execution_count": 354,
   "metadata": {},
   "outputs": [],
   "source": [
    "# writing dictionary to json file\n",
    "import json\n",
    "data = [econdist]\n",
    "with open('incomepop.json', 'w') as txtfile:\n",
    "    json.dump(data, txtfile, sort_keys=True, indent = 4)"
   ]
  },
  {
   "cell_type": "code",
   "execution_count": null,
   "metadata": {},
   "outputs": [],
   "source": []
  }
 ],
 "metadata": {
  "kernelspec": {
   "display_name": "Python 2",
   "language": "python",
   "name": "python2"
  },
  "language_info": {
   "codemirror_mode": {
    "name": "ipython",
    "version": 2
   },
   "file_extension": ".py",
   "mimetype": "text/x-python",
   "name": "python",
   "nbconvert_exporter": "python",
   "pygments_lexer": "ipython2",
   "version": "2.7.10"
  }
 },
 "nbformat": 4,
 "nbformat_minor": 2
}
