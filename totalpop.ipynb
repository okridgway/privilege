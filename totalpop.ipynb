{
 "cells": [
  {
   "cell_type": "markdown",
   "metadata": {},
   "source": [
    "# Hello World"
   ]
  },
  {
   "cell_type": "markdown",
   "metadata": {},
   "source": [
    "The following data comes from the  United Nations Population Division Department of Economic and Social Affairs. Specifically, this data is a part of the [World Population Prospects: The 2017 Revision](http://data.un.org/Data.aspx?d=PopDiv&f=variableID:12&c=2,4,6,7&s=_crEngNameOrderBy:asc,_timeEngNameOrderBy:desc,_varEngNameOrderBy:asc&v=1) dataset that has been an ongoing project since the mid 20th-century. It was last updated in June 2017 when it was released as the *2017 Revision* edition of the project.\n",
    "\n",
    "The numbers used in the following analysis are based off the median fertility variant prediction for 2018. The original dataset depicts the number of people in thousands and can be downloaded [here](http://data.un.org/Data.aspx?d=PopDiv&f=variableID:12&c=2,4,6,7&s=_crEngNameOrderBy:asc,_timeEngNameOrderBy:desc,_varEngNameOrderBy:asc&v=1)."
   ]
  },
  {
   "cell_type": "code",
   "execution_count": 1196,
   "metadata": {},
   "outputs": [],
   "source": [
    "# setting up basic notebook functionalities\n",
    "import pandas as pd"
   ]
  },
  {
   "cell_type": "code",
   "execution_count": 1197,
   "metadata": {},
   "outputs": [],
   "source": [
    "# importing relevant data\n",
    "totalpop = pd.read_csv(\"data/UNdata_totalpop.csv\")"
   ]
  },
  {
   "cell_type": "code",
   "execution_count": 1198,
   "metadata": {
    "scrolled": true
   },
   "outputs": [
    {
     "name": "stdout",
     "output_type": "stream",
     "text": [
      "<class 'pandas.core.frame.DataFrame'>\n",
      "RangeIndex: 273 entries, 0 to 272\n",
      "Data columns (total 2 columns):\n",
      "Country    273 non-null object\n",
      "Value      273 non-null float64\n",
      "dtypes: float64(1), object(1)\n",
      "memory usage: 4.3+ KB\n"
     ]
    }
   ],
   "source": [
    "# double checking that the csv file was imported correctly and recognizes the second column as numbers\n",
    "totalpop.info()"
   ]
  },
  {
   "cell_type": "code",
   "execution_count": 1199,
   "metadata": {},
   "outputs": [],
   "source": [
    "# creating a dictionary and assinging each row as a unique key with the second row as a value\n",
    "dict = {row[0] : row[1] for _, row in pd.read_csv(\"data/UNdata_totalpop.csv\").iterrows()}"
   ]
  },
  {
   "cell_type": "code",
   "execution_count": 1200,
   "metadata": {},
   "outputs": [],
   "source": [
    "# writing dictionary to json file\n",
    "import json\n",
    "data = [dict]\n",
    "with open('totalpop.json', 'w') as txtfile:\n",
    "    json.dump(data, txtfile, sort_keys=True, indent = 4)"
   ]
  },
  {
   "cell_type": "code",
   "execution_count": 1201,
   "metadata": {},
   "outputs": [],
   "source": [
    "# defining a few variables to save time/space\n",
    "usa = dict['United States of America']\n",
    "world = dict['World']"
   ]
  },
  {
   "cell_type": "code",
   "execution_count": 1202,
   "metadata": {},
   "outputs": [
    {
     "data": {
      "text/plain": [
       "(23.358617031008308, 25.0)"
      ]
     },
     "execution_count": 1202,
     "metadata": {},
     "output_type": "execute_result"
    }
   ],
   "source": [
    "# basis = proportional size of the world if there were only one american in it\n",
    "basis = 100/ratio\n",
    "base = 100/(usa/world*100)\n",
    "base, basis"
   ]
  },
  {
   "cell_type": "code",
   "execution_count": 1203,
   "metadata": {},
   "outputs": [],
   "source": [
    "# list of 'seven' continents\n",
    "cont = ['Asia', 'Africa', 'Northern America', 'South America', 'Central America','Europe', 'Australia/New Zealand', 'Oceania']"
   ]
  },
  {
   "cell_type": "code",
   "execution_count": 1204,
   "metadata": {},
   "outputs": [],
   "source": [
    "# creating a new dicitonary with just the continents in it\n",
    "continents = {k: dict[k] for k in set(cont) & set(dict.keys())}"
   ]
  },
  {
   "cell_type": "code",
   "execution_count": 1205,
   "metadata": {},
   "outputs": [],
   "source": [
    "continents['Oceania'] = continents['Australia/New Zealand'] + continents['Oceania']\n",
    "del continents['Australia/New Zealand']"
   ]
  },
  {
   "cell_type": "code",
   "execution_count": 1206,
   "metadata": {},
   "outputs": [],
   "source": [
    "continents['North America'] = continents['Northern America'] + continents['Central America']\n",
    "del continents['Northern America']\n",
    "del continents['Central America']"
   ]
  },
  {
   "cell_type": "code",
   "execution_count": 1207,
   "metadata": {},
   "outputs": [],
   "source": [
    "world = sum(continents.values())"
   ]
  },
  {
   "cell_type": "code",
   "execution_count": 1208,
   "metadata": {},
   "outputs": [
    {
     "data": {
      "text/plain": [
       "({'Africa': 16.7,\n",
       "  'Asia': 58.9,\n",
       "  'Europe': 9.6,\n",
       "  'North America': 7.0,\n",
       "  'Oceania': 0.9,\n",
       "  'South America': 5.6},\n",
       " 98.69999999999999)"
      ]
     },
     "execution_count": 1208,
     "metadata": {},
     "output_type": "execute_result"
    }
   ],
   "source": [
    "# finding their percentage and double checking that they add up to 1\n",
    "continents.update((x,round((y/world *3.95*basis),1)) for x, y in continents.items())\n",
    "continents, sum(continents.values())"
   ]
  },
  {
   "cell_type": "code",
   "execution_count": 1209,
   "metadata": {
    "scrolled": true
   },
   "outputs": [
    {
     "data": {
      "text/plain": [
       "({'Africa': 17.0,\n",
       "  'Asia': 59.0,\n",
       "  'Europe': 10.0,\n",
       "  'North America': 7.0,\n",
       "  'Oceania': 1.0,\n",
       "  'South America': 6.0},\n",
       " 100.0)"
      ]
     },
     "execution_count": 1209,
     "metadata": {},
     "output_type": "execute_result"
    }
   ],
   "source": [
    "# rounding to 2 decimal points\n",
    "continents.update((x,round(y,0)) for x, y in continents.items())\n",
    "continents, sum(continents.values())"
   ]
  },
  {
   "cell_type": "code",
   "execution_count": 1211,
   "metadata": {},
   "outputs": [],
   "source": [
    "# writing dictionary to json file\n",
    "import json\n",
    "data = [continents]\n",
    "with open('seventcont.json', 'w') as txtfile:\n",
    "    json.dump(data, txtfile, sort_keys=True, indent = 4)"
   ]
  },
  {
   "cell_type": "code",
   "execution_count": null,
   "metadata": {},
   "outputs": [],
   "source": []
  }
 ],
 "metadata": {
  "kernelspec": {
   "display_name": "Python 2",
   "language": "python",
   "name": "python2"
  },
  "language_info": {
   "codemirror_mode": {
    "name": "ipython",
    "version": 2
   },
   "file_extension": ".py",
   "mimetype": "text/x-python",
   "name": "python",
   "nbconvert_exporter": "python",
   "pygments_lexer": "ipython2",
   "version": "2.7.10"
  }
 },
 "nbformat": 4,
 "nbformat_minor": 2
}
